{
 "cells": [
  {
   "cell_type": "code",
   "execution_count": 356,
   "metadata": {},
   "outputs": [],
   "source": [
    "import numpy as np\n",
    "import pandas as pd"
   ]
  },
  {
   "cell_type": "code",
   "execution_count": 357,
   "metadata": {},
   "outputs": [],
   "source": [
    "n = 80 #number of collumns and rows\n",
    "#D = np.random.randint(0, n, 2)  # Diamond XY coordinates\n",
    "disp_grid = np.zeros((n,n), dtype=int)\n",
    "#[index, dir]\n",
    "N = [0, 1]\n",
    "S = [0, -1]\n",
    "E = [1, 1]\n",
    "W = [1, -1]\n",
    "\n",
    "guess = [n // 2, n // 2]"
   ]
  },
  {
   "cell_type": "markdown",
   "metadata": {},
   "source": [
    "random == x,y     \n",
    "guess == x,y      \n",
    "grid = [ \n",
    "row[col, col, col], \n",
    "row[col, col, col], \n",
    "row[col, col, col]\n",
    "]"
   ]
  },
  {
   "cell_type": "code",
   "execution_count": 358,
   "metadata": {},
   "outputs": [],
   "source": [
    "def diamond_coord():\n",
    "    return np.random.randint(0, n, 2)"
   ]
  },
  {
   "cell_type": "code",
   "execution_count": 359,
   "metadata": {},
   "outputs": [],
   "source": [
    "def switcharoo(XY):\n",
    "    # YX = [XY[1], XY[0]]\n",
    "    Y = XY[1]\n",
    "    X = XY[0]\n",
    "    return  Y, X"
   ]
  },
  {
   "cell_type": "code",
   "execution_count": 360,
   "metadata": {},
   "outputs": [],
   "source": [
    "def create_grid(num):\n",
    "    A = np.empty((num**2,),dtype=object)\n",
    "    A.fill([0, 0, 0])\n",
    "    B = np.reshape(A, (n, n))\n",
    "    np.shape(B)\n",
    "    return B"
   ]
  },
  {
   "cell_type": "code",
   "execution_count": 361,
   "metadata": {},
   "outputs": [],
   "source": [
    "def place_diamond(d):\n",
    "    grid.fill([0, 0, 0])\n",
    "   # D = np.random.randint(0, n, 2) # Diamond Location X, Y\n",
    "    dcoord = [0, 0, 1]\n",
    "    grid[switcharoo(d)] = dcoord  # Row first, then column\n",
    "    return d"
   ]
  },
  {
   "cell_type": "code",
   "execution_count": 362,
   "metadata": {},
   "outputs": [],
   "source": [
    "def diamond_check():\n",
    "    count = 0\n",
    "    Dlist = []\n",
    "    for r in grid:\n",
    "        for i in r:\n",
    "            if i[2] == 1:\n",
    "                count += 1\n",
    "                Dlist.append(i)\n",
    "    return count, Dlist, D"
   ]
  },
  {
   "cell_type": "code",
   "execution_count": 363,
   "metadata": {},
   "outputs": [],
   "source": [
    "def set_hints():\n",
    "    DY, DX = switcharoo(D)\n",
    "    # DX = D[0]\n",
    "    # DY = D[1]\n",
    "    for r in range(n):     # For each row in \n",
    "        row = grid[r]\n",
    "        if r < DY:                 # If the current row is less than the row (Y-coordinate) of the diamond:\n",
    "            NorS = -1\n",
    "        elif r > DY:\n",
    "            NorS = 1\n",
    "        elif r == DY:\n",
    "            NorS = 0\n",
    "        for c in range(n):         # For each item in each row\n",
    "            if c < DX:\n",
    "                EorW = 1\n",
    "            elif c > DX:\n",
    "                EorW = -1\n",
    "            elif c == DX:\n",
    "                EorW = 0\n",
    "            row[c] = [NorS, EorW, row[c][2]]"
   ]
  },
  {
   "cell_type": "code",
   "execution_count": 364,
   "metadata": {},
   "outputs": [],
   "source": [
    "def cardinal_direction(g):           # g is x,y coord list. low x should give E, high W. low y should give S, high N\n",
    "    Y, X = switcharoo(g)\n",
    "    loc = grid[Y][X]\n",
    "    ns, ew, cd = '', '', ''\n",
    "    if loc[0] == 1:\n",
    "        ns = 'N'\n",
    "    if loc[0] == -1:\n",
    "        ns = 'S'\n",
    "    \n",
    "    if loc[1] == 1: \n",
    "        ew = 'E'\n",
    "    if loc[1] == -1:\n",
    "        ew = 'W'\n",
    "        \n",
    "    if loc[1] == 0 and loc[0] == 0:\n",
    "        ns = 'DIAMOND!!!'\n",
    "        ew = ' DIAMOND!!!'\n",
    "        print('DIAMOND!!!')\n",
    "    cd = ns + ew\n",
    "    return cd"
   ]
  },
  {
   "cell_type": "code",
   "execution_count": 365,
   "metadata": {},
   "outputs": [],
   "source": [
    "def search(cd, coord):\n",
    "    one = cd\n",
    "    hy = coord[1] // 2\n",
    "    hx = coord[0] // 2\n",
    "    if one == 'NE':\n",
    "        new_x = coord[0] + hx\n",
    "        new_y = coord[1] + hy\n",
    "        split = [new_y, new_x]\n",
    "    elif one == 'NW':\n",
    "        new_x = coord[0] - hx\n",
    "        new_y = coord[1] + hy\n",
    "        split = [new_y, new_x]\n",
    "    elif one == 'SE':\n",
    "        new_x = coord[0] + hx\n",
    "        new_y = coord[1] - hy\n",
    "        split = [new_y, new_x]\n",
    "    elif one == 'SW':\n",
    "        new_x = coord[0] - hx\n",
    "        new_y = coord[1] + hy\n",
    "        split = [new_y, new_x]\n",
    "    two = cardinal_direction(split)\n",
    "    return two, [new_x, new_y]\n"
   ]
  },
  {
   "cell_type": "code",
   "execution_count": 366,
   "metadata": {},
   "outputs": [],
   "source": [
    "def where_to(cd, coord, lastguess):\n",
    "    Lx = lastguess[0]\n",
    "    Ly = lastguess[1]\n",
    "    X = coord[0]\n",
    "    Y = coord[1]\n",
    "    Xmax, Xmin = max(X, Lx), min(X, Lx)\n",
    "    Ymax, Ymin = max(Y, Ly), min(Y, Ly)\n",
    "    if 'N' in cd:\n",
    "        Y = int(Y - ((Ymax - Ymin) / 2))\n",
    "    if 'S' in cd:\n",
    "        Y = int(Y + ((Ymax - Ymin) / 2))\n",
    "    if 'E' in cd:\n",
    "        X = int(X + ((Xmax - Xmin) / 2))\n",
    "    if 'W' in cd:\n",
    "        X = int(X - ((Xmax - Xmin) / 2))\n",
    "    newcd = cardinal_direction([X, Y])\n",
    "    return newcd, [X, Y], coord"
   ]
  },
  {
   "cell_type": "code",
   "execution_count": 367,
   "metadata": {},
   "outputs": [
    {
     "data": {
      "text/plain": [
       "20"
      ]
     },
     "execution_count": 367,
     "metadata": {},
     "output_type": "execute_result"
    }
   ],
   "source": [
    "where_to('N', [40, 40], [n, n])[1][1]"
   ]
  },
  {
   "cell_type": "code",
   "execution_count": 368,
   "metadata": {},
   "outputs": [],
   "source": [
    "def auto_search(cd, coord):\n",
    "    if cd == '':\n",
    "        cardinal_direction(coord)"
   ]
  },
  {
   "cell_type": "code",
   "execution_count": 369,
   "metadata": {},
   "outputs": [
    {
     "name": "stdout",
     "output_type": "stream",
     "text": [
      "[70 40]\n",
      "\n"
     ]
    }
   ],
   "source": [
    "D = diamond_coord()\n",
    "print(D)\n",
    "grid = create_grid(n)\n",
    "place_diamond(D)\n",
    "diamond_check()\n",
    "print('')"
   ]
  },
  {
   "cell_type": "code",
   "execution_count": 370,
   "metadata": {
    "scrolled": true
   },
   "outputs": [
    {
     "data": {
      "text/plain": [
       "'E'"
      ]
     },
     "execution_count": 370,
     "metadata": {},
     "output_type": "execute_result"
    }
   ],
   "source": [
    "set_hints()\n",
    "cardinal_direction(guess)"
   ]
  },
  {
   "cell_type": "code",
   "execution_count": 371,
   "metadata": {},
   "outputs": [
    {
     "name": "stdout",
     "output_type": "stream",
     "text": [
      "E [60, 43]         \n",
      "N [70, 46]         \n",
      "N [67, 44]         \n",
      "NE [64, 43]         \n",
      "NE [65, 42]         \n",
      "NE [68, 41]         \n",
      "E [69, 40]         \n",
      "E [66, 37]         \n",
      "SE [67, 40]         \n",
      "NE [70, 41]         \n",
      "W [71, 40]         \n",
      "DIAMOND!!!\n",
      "DIAMOND!!! DIAMOND!!! [70, 43]         \n"
     ]
    }
   ],
   "source": [
    "cd = cardinal_direction(guess)\n",
    "coord = guess\n",
    "lastguess = [n, n]\n",
    "count = 0\n",
    "negorpos = [-3, 3]\n",
    "\n",
    "for i in range(25):\n",
    "    rand = np.random.choice(negorpos)\n",
    "    cd, coord, lastguess = where_to(cd, coord, lastguess)\n",
    "    \n",
    "    if coord[0] == lastguess[0]: # and len(cd) == 1:\n",
    "        coord[0] += rand\n",
    "    if coord[1] == lastguess[1]: # and len(cd) == 1:\n",
    "        coord[1] += rand\n",
    "            \n",
    "    print(cd, coord, '        ') #lastguess)\n",
    "    if cd == 'DIAMOND!!! DIAMOND!!!':\n",
    "        break"
   ]
  },
  {
   "cell_type": "code",
   "execution_count": null,
   "metadata": {},
   "outputs": [],
   "source": []
  },
  {
   "cell_type": "code",
   "execution_count": null,
   "metadata": {},
   "outputs": [],
   "source": []
  }
 ],
 "metadata": {
  "kernelspec": {
   "display_name": "Python 3",
   "language": "python",
   "name": "python3"
  },
  "language_info": {
   "codemirror_mode": {
    "name": "ipython",
    "version": 3
   },
   "file_extension": ".py",
   "mimetype": "text/x-python",
   "name": "python",
   "nbconvert_exporter": "python",
   "pygments_lexer": "ipython3",
   "version": "3.7.3"
  }
 },
 "nbformat": 4,
 "nbformat_minor": 2
}
