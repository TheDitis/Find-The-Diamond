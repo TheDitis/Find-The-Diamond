{
 "cells": [
  {
   "cell_type": "code",
   "execution_count": 824,
   "metadata": {},
   "outputs": [],
   "source": [
    "import numpy as np\n",
    "import pandas as pd"
   ]
  },
  {
   "cell_type": "code",
   "execution_count": 825,
   "metadata": {},
   "outputs": [],
   "source": [
    "import sys\n",
    "numpy.set_printoptions(threshold=1000)  "
   ]
  },
  {
   "cell_type": "code",
   "execution_count": 826,
   "metadata": {},
   "outputs": [],
   "source": [
    "n = 80 #number of collumns and rows\n",
    "#D = np.random.randint(0, n, 2)  # Diamond XY coordinates\n",
    "disp_grid = np.zeros((n,n), dtype=int)\n",
    "#[index, dir]\n",
    "N = [0, 1]\n",
    "S = [0, -1]\n",
    "E = [1, 1]\n",
    "W = [1, -1]\n",
    "\n",
    "guess = [n // 2, n // 2]"
   ]
  },
  {
   "cell_type": "markdown",
   "metadata": {},
   "source": [
    "random == x,y     \n",
    "guess == x,y      \n",
    "grid = [ \n",
    "row[col, col, col], \n",
    "row[col, col, col], \n",
    "row[col, col, col]\n",
    "]"
   ]
  },
  {
   "cell_type": "code",
   "execution_count": 855,
   "metadata": {},
   "outputs": [],
   "source": [
    "def diamond_coord():\n",
    "    return np.random.randint(0, n, 2)"
   ]
  },
  {
   "cell_type": "code",
   "execution_count": 856,
   "metadata": {},
   "outputs": [],
   "source": [
    "rows = [ [0,0,0] for i in range(n) ]"
   ]
  },
  {
   "cell_type": "code",
   "execution_count": 857,
   "metadata": {},
   "outputs": [],
   "source": [
    "def create_grid(num):\n",
    "    A = np.empty((num**2,),dtype=object)\n",
    "    A.fill([0, 0, 0])\n",
    "    B = np.reshape(A, (n, n))\n",
    "    np.shape(B)\n",
    "    return B"
   ]
  },
  {
   "cell_type": "code",
   "execution_count": 858,
   "metadata": {},
   "outputs": [],
   "source": [
    "def place_diamond(d):\n",
    "    grid.fill([0, 0, 0])\n",
    "   # D = np.random.randint(0, n, 2) # Diamond Location X, Y\n",
    "    dcoord = [0, 0, 1]\n",
    "    grid[d[1]][d[0]] = dcoord\n",
    "    return d"
   ]
  },
  {
   "cell_type": "code",
   "execution_count": 859,
   "metadata": {},
   "outputs": [],
   "source": [
    "def diamond_check():\n",
    "    count = 0\n",
    "    Dlist = []\n",
    "    for r in grid:\n",
    "        for i in r:\n",
    "            if i[2] == 1:\n",
    "                count += 1\n",
    "                Dlist.append(i)\n",
    "    return count, Dlist, D"
   ]
  },
  {
   "cell_type": "code",
   "execution_count": 860,
   "metadata": {},
   "outputs": [],
   "source": [
    "def set_hints():\n",
    "    DX = D[0]\n",
    "    DY = D[1]\n",
    "    for r in range(n):     # For each row in \n",
    "        row = grid[r]\n",
    "        if r < DY:                 # If the current row is less than the row (Y-coordinate) of the diamond:\n",
    "            NorS = -1\n",
    "        elif r > DY:\n",
    "            NorS = 1\n",
    "        elif r == DY:\n",
    "            NorS = 0\n",
    "        for c in range(n):         # For each item in each row\n",
    "            if c < DX:\n",
    "                EorW = 1\n",
    "            elif c > DX:\n",
    "                EorW = -1\n",
    "            elif c == DX:\n",
    "                EorW = 0\n",
    "            row[c] = [NorS, EorW, row[c][2]]"
   ]
  },
  {
   "cell_type": "code",
   "execution_count": 895,
   "metadata": {},
   "outputs": [],
   "source": [
    "def cardinal_direction(g):\n",
    "    loc = grid[g[1]][g[0]]\n",
    "    ns, ew, cd = '', '', ''\n",
    "    if loc[1] == 1:\n",
    "        ns = 'N'\n",
    "    if loc[1] == -1:\n",
    "        ns = 'S'\n",
    "    \n",
    "    if loc[0] == 1: \n",
    "        ew = 'E'\n",
    "    if loc[0] == -1:\n",
    "        ew = 'W'\n",
    "        \n",
    "    if loc[1] == 0 and loc[0] == 0:\n",
    "        'DIAMOND!!!'\n",
    "    cd = ns + ew\n",
    "    print(cd)\n",
    "    return cd"
   ]
  },
  {
   "cell_type": "code",
   "execution_count": 934,
   "metadata": {},
   "outputs": [
    {
     "data": {
      "text/plain": [
       "(1, [[0, 0, 1]], array([ 2, 28]))"
      ]
     },
     "execution_count": 934,
     "metadata": {},
     "output_type": "execute_result"
    }
   ],
   "source": [
    "D = diamond_coord()\n",
    "grid = create_grid(n)\n",
    "place_diamond(D)\n",
    "diamond_check()\n"
   ]
  },
  {
   "cell_type": "code",
   "execution_count": 982,
   "metadata": {
    "scrolled": true
   },
   "outputs": [
    {
     "data": {
      "text/plain": [
       "'SE'"
      ]
     },
     "execution_count": 982,
     "metadata": {},
     "output_type": "execute_result"
    }
   ],
   "source": [
    "set_hints()\n",
    "cardinal_direction(guess)"
   ]
  },
  {
   "cell_type": "code",
   "execution_count": 965,
   "metadata": {},
   "outputs": [
    {
     "data": {
      "text/plain": [
       "'SE'"
      ]
     },
     "execution_count": 965,
     "metadata": {},
     "output_type": "execute_result"
    }
   ],
   "source": [
    "cardinal_direction([20, 60])"
   ]
  },
  {
   "cell_type": "code",
   "execution_count": 975,
   "metadata": {},
   "outputs": [],
   "source": [
    "def search(cd):\n",
    "    start = n // 2\n",
    "    h1 = start // 2\n",
    "    one = cd\n",
    "    print(one)\n",
    "    if one == 'NE':\n",
    "        two = cardinal_direction([start + h1, start + h1])\n",
    "    if one == 'NW':\n",
    "        two = cardinal_direction([start + h1, start - h1])\n",
    "    if one == 'SE':\n",
    "        two = cardinal_direction([start - h1, start + h1])\n",
    "    if one == 'SW':\n",
    "        two = cardinal_direction([start - h1, start - h1])\n",
    "    print(two)\n",
    "    return two"
   ]
  },
  {
   "cell_type": "code",
   "execution_count": 981,
   "metadata": {},
   "outputs": [
    {
     "name": "stdout",
     "output_type": "stream",
     "text": [
      "SE\n",
      "SE\n",
      "SE\n",
      "SE\n",
      "SE\n",
      "SE\n",
      "SE\n",
      "SE\n",
      "SE\n",
      "SE\n"
     ]
    }
   ],
   "source": [
    "\n",
    "p = search(cardinal_direction([n // 2, n // 2]))\n",
    "for i in range(4):\n",
    "    p = search(p)\n",
    "    "
   ]
  },
  {
   "cell_type": "code",
   "execution_count": null,
   "metadata": {},
   "outputs": [],
   "source": []
  }
 ],
 "metadata": {
  "kernelspec": {
   "display_name": "Python 3",
   "language": "python",
   "name": "python3"
  },
  "language_info": {
   "codemirror_mode": {
    "name": "ipython",
    "version": 3
   },
   "file_extension": ".py",
   "mimetype": "text/x-python",
   "name": "python",
   "nbconvert_exporter": "python",
   "pygments_lexer": "ipython3",
   "version": "3.7.3"
  }
 },
 "nbformat": 4,
 "nbformat_minor": 2
}
